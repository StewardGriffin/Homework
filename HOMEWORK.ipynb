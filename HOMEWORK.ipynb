{
 "cells": [
  {
   "cell_type": "code",
   "execution_count": 2,
   "id": "congressional-tournament",
   "metadata": {},
   "outputs": [
    {
     "name": "stdout",
     "output_type": "stream",
     "text": [
      "Introduceti a: 4\n",
      "Introduceti b: 4\n",
      "Introduceti c: 1\n",
      "Discriminantul este 0.0\n",
      "x = -0.5\n"
     ]
    }
   ],
   "source": [
    "# Homework\n",
    "# Homework Lesson 2\n",
    "# Aceasta este tema lui Ion Mereuta\n",
    "# EX1\n",
    "\n",
    "# Introducem variabilele\n",
    "a = float(input(\"Introduceti a: \"))\n",
    "b = float(input(\"Introduceti b: \"))\n",
    "c = float(input(\"Introduceti c: \"))\n",
    "# Aflam discriminantul \n",
    "import math\n",
    "delta = math.pow(b, 2) - 4 * a * c\n",
    "print(f\"Discriminantul este {delta}\")\n",
    "# Aflam x1 si x2 in corespondenta cu Discriminantul \n",
    "if delta > 0:\n",
    "    x1 = (b * (-1) + math.sqrt(delta)) / (2 * a)\n",
    "    x2 = (b * (-1) - math.sqrt(delta)) / (2 * a)\n",
    "    print(f\"x1 = {x1}\")\n",
    "    print(f\"x1 = {x2}\")\n",
    "elif delta < 0:\n",
    "    print(\"Du-te si invata numere Complexe, pentru ca solutia nu apartine multimii numerelor Reale :)\")\n",
    "else:\n",
    "    x = (b * (-1)) / (2 * a)\n",
    "    print(f\"x = {x}\")"
   ]
  },
  {
   "cell_type": "code",
   "execution_count": 3,
   "id": "functioning-benchmark",
   "metadata": {},
   "outputs": [
    {
     "name": "stdout",
     "output_type": "stream",
     "text": [
      "Introduceti coordonatele punctului X\n",
      "x1 = 6\n",
      "x2 = 6\n",
      "Introduceti coordonatele punctului Y\n",
      "y1 = 8\n",
      "y2 = 5\n",
      "Distanta Euclidiana este: 2.23606797749979\n"
     ]
    }
   ],
   "source": [
    "  # EX2\n",
    "\n",
    "# Introducem coordonatele X si Y\n",
    "print (\"Introduceti coordonatele punctului X\")\n",
    "x1 = int(input(\"x1 = \"))\n",
    "x2 = int(input(\"x2 = \"))\n",
    "print (\"Introduceti coordonatele punctului Y\")\n",
    "y1 = int(input(\"y1 = \"))\n",
    "y2 = int(input(\"y2 = \"))\n",
    "# Calculam distanta euclidiana\n",
    "import math\n",
    "d = math.sqrt(math.pow((x1 - y1), 2) + math.pow((x2 - y2), 2))\n",
    "print (f\"Distanta Euclidiana este: {d}\")"
   ]
  },
  {
   "cell_type": "code",
   "execution_count": null,
   "id": "prospective-scenario",
   "metadata": {},
   "outputs": [],
   "source": []
  }
 ],
 "metadata": {
  "kernelspec": {
   "display_name": "Python 3",
   "language": "python",
   "name": "python3"
  },
  "language_info": {
   "codemirror_mode": {
    "name": "ipython",
    "version": 3
   },
   "file_extension": ".py",
   "mimetype": "text/x-python",
   "name": "python",
   "nbconvert_exporter": "python",
   "pygments_lexer": "ipython3",
   "version": "3.7.9"
  }
 },
 "nbformat": 4,
 "nbformat_minor": 5
}
