{
 "cells": [
  {
   "cell_type": "code",
   "execution_count": 54,
   "id": "valued-mason",
   "metadata": {},
   "outputs": [
    {
     "name": "stdout",
     "output_type": "stream",
     "text": [
      "Introduceti valorile dorite: 1 2 4\n",
      "Suma: 7\n",
      "Produs: 8\n"
     ]
    }
   ],
   "source": [
    "# Aceasta este tema lui Mereuta Ion\n",
    "# Numai la primul rand am avut nevoie de inspiratie, recunosc :(\n",
    "list_n = [int(val) for val in input(\"Introduceti valorile dorite: \").split()]\n",
    "# Denumim valorile din lista n ca integer si eliminam spatiile libere cu split\n",
    "i = 0 # Dam valoare indexului initial\n",
    "suma = 0 # Dam valoarea initiala a sumei (x+0=x)\n",
    "produs = 1 # Dam valoarea initiala a produsului (x*1=x)\n",
    "while i < len(list_n): \n",
    "    suma = list_n[i] + suma\n",
    "    produs = list_n[i] * produs\n",
    "    i += 1\n",
    "print(f\"Suma: {suma}\")\n",
    "print(f\"Produs: {produs}\")"
   ]
  },
  {
   "cell_type": "code",
   "execution_count": null,
   "id": "hairy-jewel",
   "metadata": {},
   "outputs": [],
   "source": []
  }
 ],
 "metadata": {
  "kernelspec": {
   "display_name": "Python 3",
   "language": "python",
   "name": "python3"
  },
  "language_info": {
   "codemirror_mode": {
    "name": "ipython",
    "version": 3
   },
   "file_extension": ".py",
   "mimetype": "text/x-python",
   "name": "python",
   "nbconvert_exporter": "python",
   "pygments_lexer": "ipython3",
   "version": "3.7.9"
  }
 },
 "nbformat": 4,
 "nbformat_minor": 5
}
