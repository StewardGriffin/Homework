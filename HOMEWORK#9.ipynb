{
 "cells": [
  {
   "cell_type": "code",
   "execution_count": 2,
   "id": "instrumental-remark",
   "metadata": {},
   "outputs": [
    {
     "name": "stdout",
     "output_type": "stream",
     "text": [
      "Introduceti raza cercului: 6\n",
      "Aria cercului este - 113.097\n",
      "Perimatrul cercului este - 37.699\n",
      "Doriti sa continuati operatiunea ?da\n",
      "Introduceti raza cercului: 9\n",
      "Aria cercului este - 254.469\n",
      "Perimatrul cercului este - 56.549\n",
      "Doriti sa continuati operatiunea ?nu\n"
     ]
    }
   ],
   "source": [
    "# Aceasta este tema lui Ion Mereuta\n",
    "# M-am jucat un pic cu problema\n",
    "# Am facut interactiune cu consumatorul \n",
    "from math import pi\n",
    "class Circle:\n",
    "    def __init__(self, radius):\n",
    "        self.radius = radius\n",
    "    def area (self):\n",
    "        return pi * self.radius ** 2\n",
    "    def lenght (self):\n",
    "        return 2 * pi * self.radius\n",
    "circle = Circle(float(input(\"Introduceti raza cercului: \")))\n",
    "print(f\"Aria cercului este - {round(circle.area(), 3)}\")\n",
    "print(f\"Perimatrul cercului este - {round(circle.lenght(), 3)}\")\n",
    "# Intram intr-un loop pentru a face mai multe operatii la rand \n",
    "while True: \n",
    "    question = str(input(\"Doriti sa continuati operatiunea ?\"))\n",
    "    if question == 'nu':\n",
    "        break\n",
    "    elif question == 'da':\n",
    "        circle = Circle(float(input(\"Introduceti raza cercului: \")))\n",
    "        print(f\"Aria cercului este - {round(circle.area(), 3)}\")\n",
    "        print(f\"Perimatrul cercului este - {round(circle.lenght(), 3)}\")\n",
    "    else:\n",
    "        print(\"NU AI RASPUNS CU DA SAU NU\")\n",
    "        break"
   ]
  },
  {
   "cell_type": "code",
   "execution_count": null,
   "id": "british-anderson",
   "metadata": {},
   "outputs": [],
   "source": []
  }
 ],
 "metadata": {
  "kernelspec": {
   "display_name": "Python 3",
   "language": "python",
   "name": "python3"
  },
  "language_info": {
   "codemirror_mode": {
    "name": "ipython",
    "version": 3
   },
   "file_extension": ".py",
   "mimetype": "text/x-python",
   "name": "python",
   "nbconvert_exporter": "python",
   "pygments_lexer": "ipython3",
   "version": "3.7.9"
  }
 },
 "nbformat": 4,
 "nbformat_minor": 5
}
