{
 "cells": [
  {
   "cell_type": "code",
   "execution_count": 23,
   "id": "generic-trunk",
   "metadata": {
    "scrolled": true
   },
   "outputs": [
    {
     "name": "stdout",
     "output_type": "stream",
     "text": [
      "Introduceti un text: Noi Am Schimbat 1000 $$!\n",
      "Vocale - 5\n",
      "Consoane - 8\n",
      "Litere mici - 10\n",
      "Litere mari - 3\n",
      "Cifre - 4\n",
      "Simboluri - 3\n"
     ]
    }
   ],
   "source": [
    "#ACEASTA ESTE TEMA LUI ION MEREUTA\n",
    "# Modificam textul introdus ca tuple\n",
    "text = tuple(input(\"Introduceti un text: \"))\n",
    "# Introducem toate variabilele ca tuple\n",
    "vocale = tuple(['a', 'e', 'i', 'o', 'u',\n",
    "                'A', 'E', 'I', 'O', 'U'])\n",
    "consoane = tuple(['b', 'c', 'd', 'f', 'g', 'h', 'j', 'k', 'l', 'm', 'n', 'p', 'q', 'r', 's', 't', 'v', 'w', 'x', 'z', 'y',\n",
    "                   'B', 'C', 'D', 'F', 'G', 'H', 'J', 'K', 'L', 'M', 'N', 'P', 'Q', 'R', 'S', 'T', 'V', 'W', 'X', 'Z', 'Y'])\n",
    "minuscule = tuple(['a', 'b', 'c', 'd', 'e', 'f', 'g', 'h', 'i', 'j', 'k', 'l', 'm', 'n', 'o', 'p', 'q', 'r', 's', 't', 'u', 'v', 'w', 'x', 'z', 'y'])\n",
    "majuscule = tuple(['A', 'B', 'C', 'D', 'E', 'F', 'G', 'H', 'I', 'J', 'K', 'L', 'M', 'N', 'O', 'P', 'Q', 'R', 'S', 'T', 'U', 'V', 'W', 'X', 'Z', 'Y'])\n",
    "cifre = tuple(['0', '1', '2', '3', '4', '5', '6', '7', '8', '9'])\n",
    "simboluri = tuple(['~', '!', '@', '#', '$','€' '%', '^', '&', '*', '(', ')' ,'<' , '>', '?', ':', '\"', ']', '[', \n",
    "                '}', '{', ',' ,'.' ,'/', '-', '_', '=' ,'+', '/', '*'])\n",
    "# Definim valorile initiale\n",
    "v = 0\n",
    "c = 0\n",
    "minu = 0\n",
    "maj = 0\n",
    "cif = 0\n",
    "simbol = 0\n",
    "# Identificam fiecare caracter din text ca element de vocala, consoana, minuscula, majuscula, cifra sau simbol\n",
    "# Daca il identifica, valoarea initiala creste cu o unitate\n",
    "for i in  text:\n",
    "    if i in vocale:\n",
    "        v += 1\n",
    "    if i in consoane:\n",
    "        c += 1\n",
    "    if i in minuscule:\n",
    "        minu += 1\n",
    "    if i in majuscule:\n",
    "        maj += 1\n",
    "    if i in cifre:\n",
    "        cif += 1\n",
    "    if i in simboluri:\n",
    "        simbol += 1\n",
    "print(f\"Vocale - {v}\")\n",
    "print(f\"Consoane - {c}\")\n",
    "print(f\"Litere mici - {minu}\")\n",
    "print(f\"Litere mari - {maj}\")\n",
    "print(f\"Cifre - {cif}\")\n",
    "print(f\"Simboluri - {simbol}\")"
   ]
  },
  {
   "cell_type": "code",
   "execution_count": null,
   "id": "premier-february",
   "metadata": {},
   "outputs": [],
   "source": []
  }
 ],
 "metadata": {
  "kernelspec": {
   "display_name": "Python 3",
   "language": "python",
   "name": "python3"
  },
  "language_info": {
   "codemirror_mode": {
    "name": "ipython",
    "version": 3
   },
   "file_extension": ".py",
   "mimetype": "text/x-python",
   "name": "python",
   "nbconvert_exporter": "python",
   "pygments_lexer": "ipython3",
   "version": "3.7.9"
  }
 },
 "nbformat": 4,
 "nbformat_minor": 5
}
